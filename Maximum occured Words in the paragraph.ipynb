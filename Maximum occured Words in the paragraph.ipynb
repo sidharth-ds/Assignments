{
 "cells": [
  {
   "cell_type": "code",
   "execution_count": 2,
   "id": "cc22a447",
   "metadata": {},
   "outputs": [
    {
     "name": "stdout",
     "output_type": "stream",
     "text": [
      "Every time you build new projects (Data Science projects in our case), you get to learn new technologies and their implementations with first-hand experience. In addition to mastering those technologies, your quest to learn more technologies related to Data Science ( in this case) increases and thus newer technologies come into the picture.\n",
      "maximum occured words in the paragraphs: 4 times: ---> ['to']\n"
     ]
    }
   ],
   "source": [
    "para= list(map(str,input().split()))\n",
    "import collections\n",
    "w=collections.Counter(para)\n",
    "\n",
    "mx=[]\n",
    "i=1\n",
    "for k,v in w.items():\n",
    "    if v>i:\n",
    "        i=v\n",
    "        mx.append(i)\n",
    "b=max(mx)\n",
    "ans=[]\n",
    "for k,v in w.items():\n",
    "    if v==b:\n",
    "        ans.append(k)\n",
    "print('maximum occured words in the paragraphs:',b,'times:','--->',ans)"
   ]
  },
  {
   "cell_type": "code",
   "execution_count": null,
   "id": "05a6f5cc",
   "metadata": {},
   "outputs": [],
   "source": []
  }
 ],
 "metadata": {
  "kernelspec": {
   "display_name": "Python 3 (ipykernel)",
   "language": "python",
   "name": "python3"
  },
  "language_info": {
   "codemirror_mode": {
    "name": "ipython",
    "version": 3
   },
   "file_extension": ".py",
   "mimetype": "text/x-python",
   "name": "python",
   "nbconvert_exporter": "python",
   "pygments_lexer": "ipython3",
   "version": "3.9.7"
  }
 },
 "nbformat": 4,
 "nbformat_minor": 5
}
