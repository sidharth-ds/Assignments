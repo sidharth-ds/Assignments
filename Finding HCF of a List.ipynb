{
 "cells": [
  {
   "cell_type": "code",
   "execution_count": 1,
   "id": "0d699c7c",
   "metadata": {},
   "outputs": [
    {
     "name": "stdout",
     "output_type": "stream",
     "text": [
      "2 4 6 8\n",
      "2\n"
     ]
    }
   ],
   "source": [
    "arr= list(map(int,input().split()))\n",
    "xxx=[]\n",
    "for j in arr:\n",
    "    for i in range(1,1000):\n",
    "        if j%i==0:\n",
    "            xxx.append(i)    \n",
    "import collections\n",
    "w=collections.Counter(xxx)\n",
    "ans=[]\n",
    "for k,v in w.items():\n",
    "    if v==len(arr):\n",
    "       ans.append(k)\n",
    "print(max(ans))"
   ]
  },
  {
   "cell_type": "code",
   "execution_count": null,
   "id": "36a3ad22",
   "metadata": {},
   "outputs": [],
   "source": []
  }
 ],
 "metadata": {
  "kernelspec": {
   "display_name": "Python 3 (ipykernel)",
   "language": "python",
   "name": "python3"
  },
  "language_info": {
   "codemirror_mode": {
    "name": "ipython",
    "version": 3
   },
   "file_extension": ".py",
   "mimetype": "text/x-python",
   "name": "python",
   "nbconvert_exporter": "python",
   "pygments_lexer": "ipython3",
   "version": "3.9.7"
  }
 },
 "nbformat": 4,
 "nbformat_minor": 5
}
