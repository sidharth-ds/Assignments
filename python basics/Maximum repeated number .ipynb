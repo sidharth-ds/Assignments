{
 "cells": [
  {
   "cell_type": "code",
   "execution_count": 1,
   "id": "928a5a27",
   "metadata": {},
   "outputs": [],
   "source": [
    "a=[1,2,4,8,8,8,3,3,3,5,8,8,8,8,6,7,7,8,8,8,8,8,9,9,6,6,6,8,8,4]\n"
   ]
  },
  {
   "cell_type": "code",
   "execution_count": 37,
   "id": "876b272b",
   "metadata": {},
   "outputs": [
    {
     "name": "stdout",
     "output_type": "stream",
     "text": [
      "continuosly repeated numbers: [8, 8, 3, 3, 8, 8, 8, 7, 8, 8, 8, 8, 9, 6, 6, 8]\n",
      "number of repetitions: [1, 2, 1, 2, 1, 2, 3, 1, 1, 2, 3, 4, 1, 1, 2, 1]\n",
      "maximum: 4 times repeated continuously\n",
      "index of the maximum repetition: 11\n",
      "the maximum consequetively repeated number is: 8\n"
     ]
    }
   ],
   "source": [
    "aaa=[]\n",
    "bbb=[]\n",
    "count=0\n",
    "for i in range(len(a)):\n",
    "    try:\n",
    "        if a[i] == a[i+1]:\n",
    "            count=count+1  \n",
    "            \n",
    "            aaa.append(a[i])\n",
    "            bbb.append(count)\n",
    "        else:\n",
    "            count=0     # resetting the count to 0\n",
    "    except:\n",
    "        None\n",
    "print(\"continuosly repeated numbers:\", aaa)\n",
    "print(\"number of repetitions:\",bbb)\n",
    "\n",
    "mx = max(bbb)  \n",
    "print(\"maximum:\", mx ,\"times repeated continuously\")\n",
    "\n",
    "ind = bbb.index(mx)  \n",
    "print(\"index of the maximum repetition:\", ind)\n",
    "\n",
    "answer = aaa[ind]       #corresponding index value\n",
    "print(\"the maximum consequetively repeated number is:\", answer)"
   ]
  }
 ],
 "metadata": {
  "kernelspec": {
   "display_name": "Python 3 (ipykernel)",
   "language": "python",
   "name": "python3"
  },
  "language_info": {
   "codemirror_mode": {
    "name": "ipython",
    "version": 3
   },
   "file_extension": ".py",
   "mimetype": "text/x-python",
   "name": "python",
   "nbconvert_exporter": "python",
   "pygments_lexer": "ipython3",
   "version": "3.9.7"
  },
  "widgets": {
   "application/vnd.jupyter.widget-state+json": {
    "state": {},
    "version_major": 2,
    "version_minor": 0
   }
  }
 },
 "nbformat": 4,
 "nbformat_minor": 5
}
