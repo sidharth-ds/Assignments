{
 "cells": [
  {
   "cell_type": "code",
   "execution_count": 2,
   "id": "dd9809cc",
   "metadata": {},
   "outputs": [
    {
     "name": "stdout",
     "output_type": "stream",
     "text": [
      "2 4 6 8\n",
      "24\n"
     ]
    }
   ],
   "source": [
    "arr = list(map(int,input().split()))\n",
    "xxx=[]\n",
    "for i in range(1,1000):\n",
    "    mx = max(arr)\n",
    "    multiple = mx * i\n",
    "    xxx.append(multiple)\n",
    "yyy=[]\n",
    "for j in arr:\n",
    "    for k in xxx:\n",
    "        if k%j==0:\n",
    "            yyy.append(k)\n",
    "\n",
    "import collections\n",
    "w=collections.Counter(yyy)\n",
    "for k,v in w.items():\n",
    "    if v==len(arr):\n",
    "        print(k)\n",
    "        break"
   ]
  },
  {
   "cell_type": "code",
   "execution_count": null,
   "id": "90040103",
   "metadata": {},
   "outputs": [],
   "source": []
  }
 ],
 "metadata": {
  "kernelspec": {
   "display_name": "Python 3 (ipykernel)",
   "language": "python",
   "name": "python3"
  },
  "language_info": {
   "codemirror_mode": {
    "name": "ipython",
    "version": 3
   },
   "file_extension": ".py",
   "mimetype": "text/x-python",
   "name": "python",
   "nbconvert_exporter": "python",
   "pygments_lexer": "ipython3",
   "version": "3.9.7"
  }
 },
 "nbformat": 4,
 "nbformat_minor": 5
}
